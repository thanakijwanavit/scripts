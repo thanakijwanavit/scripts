{
 "cells": [
  {
   "cell_type": "code",
   "execution_count": 22,
   "metadata": {
    "collapsed": true
   },
   "outputs": [],
   "source": [
    "import time\n",
    "import datetime\n",
    "import os"
   ]
  },
  {
   "cell_type": "code",
   "execution_count": 6,
   "metadata": {},
   "outputs": [
    {
     "data": {
      "text/plain": [
       "datetime.datetime(2018, 11, 19, 22, 29, 10, 320040)"
      ]
     },
     "execution_count": 6,
     "metadata": {},
     "output_type": "execute_result"
    }
   ],
   "source": [
    "datetime.datetime.now()"
   ]
  },
  {
   "cell_type": "code",
   "execution_count": 8,
   "metadata": {},
   "outputs": [
    {
     "name": "stdout",
     "output_type": "stream",
     "text": [
      "Local current time : time.struct_time(tm_year=2018, tm_mon=11, tm_mday=19, tm_hour=22, tm_min=33, tm_sec=30, tm_wday=0, tm_yday=323, tm_isdst=0)\n"
     ]
    }
   ],
   "source": [
    "localtime = time.localtime(time.time())\n",
    "print (\"Local current time :\", localtime)"
   ]
  },
  {
   "cell_type": "code",
   "execution_count": 16,
   "metadata": {},
   "outputs": [],
   "source": []
  },
  {
   "cell_type": "code",
   "execution_count": 17,
   "metadata": {},
   "outputs": [
    {
     "name": "stdout",
     "output_type": "stream",
     "text": [
      "Mon Sep 17 12:00:00 2018\n"
     ]
    }
   ],
   "source": [
    "print(time.asctime(timeNeeded))"
   ]
  },
  {
   "cell_type": "code",
   "execution_count": 20,
   "metadata": {},
   "outputs": [
    {
     "name": "stdout",
     "output_type": "stream",
     "text": [
      "1537156800.0\n"
     ]
    }
   ],
   "source": [
    "print(time.mktime(timeNeeded))"
   ]
  },
  {
   "cell_type": "code",
   "execution_count": 21,
   "metadata": {
    "collapsed": true
   },
   "outputs": [],
   "source": []
  },
  {
   "cell_type": "code",
   "execution_count": 23,
   "metadata": {},
   "outputs": [
    {
     "data": {
      "text/plain": [
       "['10.jpeg',\n",
       " '0.jpeg',\n",
       " '1.jpeg',\n",
       " '6.jpeg',\n",
       " '7.jpeg',\n",
       " '8.jpeg',\n",
       " '4.jpeg',\n",
       " '5.jpeg',\n",
       " '9.jpeg',\n",
       " '.ipynb_checkpoints',\n",
       " '2.jpeg',\n",
       " 'Change time.ipynb',\n",
       " '3.jpeg']"
      ]
     },
     "execution_count": 23,
     "metadata": {},
     "output_type": "execute_result"
    }
   ],
   "source": [
    "os.listdir()"
   ]
  },
  {
   "cell_type": "code",
   "execution_count": 33,
   "metadata": {},
   "outputs": [],
   "source": [
    "timeNeeded= time.strptime(\"12 17 NOV 2018\",'%H %d %b %Y')\n",
    "timesec=time.mktime(timeNeeded)\n",
    "directory = '/Users/nic/Downloads/videos_to_change_date'\n",
    "for fn in os.listdir(directory):\n",
    "    if fn.endswith('.jpeg') or fn.endswith('.MP4') or fn.endswith('.mov')or fn.endswith('.MP4'):\n",
    "        os.utime(directory+\"/\"+fn, (time.time(), timesec))"
   ]
  },
  {
   "cell_type": "code",
   "execution_count": 28,
   "metadata": {},
   "outputs": [
    {
     "data": {
      "text/plain": [
       "['564131933.371934.MP4',\n",
       " '564131396.894215.MP4',\n",
       " '564131933.372147.MP4',\n",
       " 'GPTempDownload 10.JPG',\n",
       " '564131933.372593.MP4',\n",
       " '564131933.372251.MP4',\n",
       " '564131933.372480.MP4',\n",
       " '564131396.976233.MP4',\n",
       " '564131933.372040.MP4',\n",
       " '564131933.372929.MP4',\n",
       " 'GPTempDownload 8.JPG',\n",
       " 'GPTempDownload.JPG',\n",
       " 'GPTempDownload 9.JPG',\n",
       " 'GPTempDownload 4.jpg',\n",
       " 'GPTempDownload 5.JPG',\n",
       " '564131393.555047.MP4',\n",
       " '564131398.488070.mov',\n",
       " 'GPTempDownload 7.JPG',\n",
       " '564131933.371828.MP4',\n",
       " 'GPTempDownload 6.JPG',\n",
       " '564131933.371592.MP4',\n",
       " '564131397.061151.MP4',\n",
       " 'GPTempDownload 2.JPG',\n",
       " 'GPTempDownload 3.JPG',\n",
       " '564131933.372707.MP4',\n",
       " '564131397.109946.MP4',\n",
       " '564131933.373156.MP4',\n",
       " '564131397.019771.MP4',\n",
       " '564131396.847802.MP4',\n",
       " '564131933.372818.MP4',\n",
       " '564131396.935214.MP4',\n",
       " '564131398.149157.MP4',\n",
       " '564131393.617456.MP4',\n",
       " '564131398.586670.MP4',\n",
       " '564131396.798001.MP4',\n",
       " '564131933.371718.MP4',\n",
       " '564131933.373043.MP4',\n",
       " '564131933.373269.MP4',\n",
       " '564131398.255677.MP4',\n",
       " '564131933.371455.MP4',\n",
       " '564131393.587878.mov',\n",
       " '564131933.372363.MP4']"
      ]
     },
     "execution_count": 28,
     "metadata": {},
     "output_type": "execute_result"
    }
   ],
   "source": [
    "os.listdir()"
   ]
  },
  {
   "cell_type": "code",
   "execution_count": null,
   "metadata": {
    "collapsed": true
   },
   "outputs": [],
   "source": []
  }
 ],
 "metadata": {
  "kernelspec": {
   "display_name": "Python 3",
   "language": "python",
   "name": "python3"
  },
  "language_info": {
   "codemirror_mode": {
    "name": "ipython",
    "version": 3
   },
   "file_extension": ".py",
   "mimetype": "text/x-python",
   "name": "python",
   "nbconvert_exporter": "python",
   "pygments_lexer": "ipython3",
   "version": "3.6.3"
  }
 },
 "nbformat": 4,
 "nbformat_minor": 2
}
